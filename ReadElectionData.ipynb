{
  "nbformat": 4,
  "nbformat_minor": 0,
  "metadata": {
    "colab": {
      "name": "ReadElectionData.ipynb",
      "provenance": [],
      "include_colab_link": true
    },
    "kernelspec": {
      "display_name": "Python 3",
      "language": "python",
      "name": "python3"
    },
    "language_info": {
      "codemirror_mode": {
        "name": "ipython",
        "version": 3
      },
      "file_extension": ".py",
      "mimetype": "text/x-python",
      "name": "python",
      "nbconvert_exporter": "python",
      "pygments_lexer": "ipython3",
      "version": "3.7.4"
    }
  },
  "cells": [
    {
      "cell_type": "markdown",
      "metadata": {
        "id": "view-in-github",
        "colab_type": "text"
      },
      "source": [
        "<a href=\"https://colab.research.google.com/github/orzuk/ElectionsDataAnalysis/blob/main/ReadElectionData.ipynb\" target=\"_parent\"><img src=\"https://colab.research.google.com/assets/colab-badge.svg\" alt=\"Open In Colab\"/></a>"
      ]
    },
    {
      "cell_type": "markdown",
      "metadata": {
        "id": "lyQ45Phps6Z6"
      },
      "source": [
        "# **Israel Elections Data Analysis**\n",
        "\n",
        "An example notebook showing how to read and display the Israel 2020 elections results. This is the notebook for the first week."
      ]
    },
    {
      "cell_type": "code",
      "metadata": {
        "id": "eRKSr5EstAUm",
        "outputId": "702af918-a631-4e49-d31c-bfc25d88a9c8",
        "colab": {
          "base_uri": "https://localhost:8080/",
          "height": 34
        }
      },
      "source": [
        "# Add a check if we run in google colab or locally in jupyter notebook\n",
        "run_in_colab = False\n",
        "if 'google.colab' in str(get_ipython()):\n",
        "    run_in_colab = True\n",
        "    print('Running on CoLab')\n",
        "else:\n",
        "    print('Running locally on Jupyter')\n",
        "\n"
      ],
      "execution_count": null,
      "outputs": [
        {
          "output_type": "stream",
          "text": [
            "Running locally on Jupyter\n"
          ],
          "name": "stdout"
        }
      ]
    },
    {
      "cell_type": "code",
      "metadata": {
        "id": "FTNiH27ZzL1F",
        "outputId": "aaf555bd-6c82-4baf-fe98-705f9e175457"
      },
      "source": [
        "# First install tha needed packages using conda in the current Jupyter kernel\n",
        "import sys\n",
        "if not(run_in_colab):\n",
        "  !conda install --yes --prefix {sys.prefix} numpy\n",
        "  !conda install --yes --prefix {sys.prefix} pandas\n",
        "  !conda install --yes --prefix {sys.prefix} matplotlib\n",
        "\n",
        "# Alternatively, if your python wasn't installed using anaconda, we can use pip install: \n",
        "# !{sys.executable} -m pip install numpy\n",
        "# !{sys.executable} -m pip install pandas\n",
        "# !{sys.executable} -m pip install matplotlib\n"
      ],
      "execution_count": null,
      "outputs": [
        {
          "output_type": "stream",
          "text": [
            "Fetching package metadata .............\n",
            "Solving package specifications: .\n",
            "\n",
            "# All requested packages already installed.\n",
            "# packages in environment at C:\\ProgramData\\Anaconda2\\envs\\Code:\n",
            "#\n",
            "numpy                     1.19.1           py37h5510c5b_0  \n",
            "Fetching package metadata .............\n",
            "Solving package specifications: .\n",
            "\n",
            "# All requested packages already installed.\n",
            "# packages in environment at C:\\ProgramData\\Anaconda2\\envs\\Code:\n",
            "#\n",
            "pandas                    1.1.3            py37ha925a31_0  \n",
            "Fetching package metadata .............\n",
            "Solving package specifications: .\n",
            "\n",
            "# All requested packages already installed.\n",
            "# packages in environment at C:\\ProgramData\\Anaconda2\\envs\\Code:\n",
            "#\n",
            "matplotlib                3.3.2                         0  \n"
          ],
          "name": "stdout"
        }
      ]
    },
    {
      "cell_type": "code",
      "metadata": {
        "id": "iC0NlMvHzL1L"
      },
      "source": [
        "# Import modules \n",
        "\n",
        "import numpy as np  # a module for working with numerical array \n",
        "import pandas as pd  # a module for working with data-frames\n"
      ],
      "execution_count": null,
      "outputs": []
    },
    {
      "cell_type": "markdown",
      "metadata": {
        "id": "pGTS_zCRZGfV"
      },
      "source": [
        "First, we need to mount our local drive to the colab network"
      ]
    },
    {
      "cell_type": "code",
      "metadata": {
        "id": "RWSJpsyKqHjH"
      },
      "source": [
        "# Mount drive in google colab\n",
        "if run_in_colab:\n",
        "    from google.colab import drive\n",
        "    drive.mount('/content/drive')\n",
        "else:  # Set local path \n",
        "    data_path = \"C:/Users/Or Zuk/Google Drive/HUJI/Teaching/Lab_52568/Data/Elections/\"  \n"
      ],
      "execution_count": null,
      "outputs": []
    },
    {
      "cell_type": "code",
      "metadata": {
        "id": "xaG-KYCw8XZz"
      },
      "source": [
        "# Loading elections 2020 elections data:\n",
        "if run_in_colab:\n",
        "    from google.colab import files\n",
        "    uploaded = files.upload()"
      ],
      "execution_count": null,
      "outputs": []
    },
    {
      "cell_type": "code",
      "metadata": {
        "id": "QxK5YlBH1geD",
        "outputId": "bfb66687-c6e6-4640-d9eb-49f040e3ee76",
        "colab": {
          "base_uri": "https://localhost:8080/",
          "height": 320
        }
      },
      "source": [
        "import io\n",
        "if   run_in_colab:\n",
        "    df_2020_raw = pd.read_csv(io.BytesIO(uploaded['votes per city 2020.csv']),  encoding = 'iso-8859-8', index_col='שם ישוב')\n",
        "else:  # read local file\n",
        "    df_2020_raw = pd.read_csv(data_path + 'votes per city 2020.csv',  encoding = 'iso-8859-8', index_col='שם ישוב')\n",
        "    \n",
        "# Dataset is now stored in a Pandas Dataframe\n",
        "print(df_2020_raw.columns)\n",
        "df_2020_raw.head()"
      ],
      "execution_count": null,
      "outputs": [
        {
          "output_type": "stream",
          "text": [
            "Index(['סמל ועדה', 'סמל ישוב', 'בזב', 'מצביעים', 'פסולים', 'כשרים', 'אמת', 'ג',\n",
            "       'ודעם', 'ז', 'זך', 'זץ', 'טב', 'י', 'יז', 'ינ', 'יף', 'יק', 'יר', 'כ',\n",
            "       'כן', 'ל', 'מחל', 'נ', 'נז', 'ני', 'נץ', 'נק', 'פה', 'ףז', 'ץ', 'ק',\n",
            "       'קי', 'קך', 'קץ', 'שס', 'Unnamed: 37'],\n",
            "      dtype='object')\n"
          ],
          "name": "stdout"
        },
        {
          "output_type": "execute_result",
          "data": {
            "text/html": [
              "<div>\n",
              "<style scoped>\n",
              "    .dataframe tbody tr th:only-of-type {\n",
              "        vertical-align: middle;\n",
              "    }\n",
              "\n",
              "    .dataframe tbody tr th {\n",
              "        vertical-align: top;\n",
              "    }\n",
              "\n",
              "    .dataframe thead th {\n",
              "        text-align: right;\n",
              "    }\n",
              "</style>\n",
              "<table border=\"1\" class=\"dataframe\">\n",
              "  <thead>\n",
              "    <tr style=\"text-align: right;\">\n",
              "      <th></th>\n",
              "      <th>סמל ועדה</th>\n",
              "      <th>סמל ישוב</th>\n",
              "      <th>בזב</th>\n",
              "      <th>מצביעים</th>\n",
              "      <th>פסולים</th>\n",
              "      <th>כשרים</th>\n",
              "      <th>אמת</th>\n",
              "      <th>ג</th>\n",
              "      <th>ודעם</th>\n",
              "      <th>ז</th>\n",
              "      <th>...</th>\n",
              "      <th>נק</th>\n",
              "      <th>פה</th>\n",
              "      <th>ףז</th>\n",
              "      <th>ץ</th>\n",
              "      <th>ק</th>\n",
              "      <th>קי</th>\n",
              "      <th>קך</th>\n",
              "      <th>קץ</th>\n",
              "      <th>שס</th>\n",
              "      <th>Unnamed: 37</th>\n",
              "    </tr>\n",
              "    <tr>\n",
              "      <th>שם ישוב</th>\n",
              "      <th></th>\n",
              "      <th></th>\n",
              "      <th></th>\n",
              "      <th></th>\n",
              "      <th></th>\n",
              "      <th></th>\n",
              "      <th></th>\n",
              "      <th></th>\n",
              "      <th></th>\n",
              "      <th></th>\n",
              "      <th></th>\n",
              "      <th></th>\n",
              "      <th></th>\n",
              "      <th></th>\n",
              "      <th></th>\n",
              "      <th></th>\n",
              "      <th></th>\n",
              "      <th></th>\n",
              "      <th></th>\n",
              "      <th></th>\n",
              "      <th></th>\n",
              "    </tr>\n",
              "  </thead>\n",
              "  <tbody>\n",
              "    <tr>\n",
              "      <th>אבו גווייעד שבט</th>\n",
              "      <td>18</td>\n",
              "      <td>967</td>\n",
              "      <td>2018</td>\n",
              "      <td>595</td>\n",
              "      <td>6</td>\n",
              "      <td>589</td>\n",
              "      <td>13</td>\n",
              "      <td>0</td>\n",
              "      <td>554</td>\n",
              "      <td>0</td>\n",
              "      <td>...</td>\n",
              "      <td>0</td>\n",
              "      <td>8</td>\n",
              "      <td>2</td>\n",
              "      <td>0</td>\n",
              "      <td>0</td>\n",
              "      <td>0</td>\n",
              "      <td>0</td>\n",
              "      <td>2</td>\n",
              "      <td>2</td>\n",
              "      <td>NaN</td>\n",
              "    </tr>\n",
              "    <tr>\n",
              "      <th>אבו גוש</th>\n",
              "      <td>2</td>\n",
              "      <td>472</td>\n",
              "      <td>4821</td>\n",
              "      <td>2718</td>\n",
              "      <td>36</td>\n",
              "      <td>2682</td>\n",
              "      <td>75</td>\n",
              "      <td>4</td>\n",
              "      <td>2157</td>\n",
              "      <td>0</td>\n",
              "      <td>...</td>\n",
              "      <td>2</td>\n",
              "      <td>123</td>\n",
              "      <td>0</td>\n",
              "      <td>2</td>\n",
              "      <td>0</td>\n",
              "      <td>0</td>\n",
              "      <td>1</td>\n",
              "      <td>4</td>\n",
              "      <td>14</td>\n",
              "      <td>NaN</td>\n",
              "    </tr>\n",
              "    <tr>\n",
              "      <th>אבו סנאן</th>\n",
              "      <td>6</td>\n",
              "      <td>473</td>\n",
              "      <td>9422</td>\n",
              "      <td>6090</td>\n",
              "      <td>53</td>\n",
              "      <td>6037</td>\n",
              "      <td>92</td>\n",
              "      <td>6</td>\n",
              "      <td>4458</td>\n",
              "      <td>0</td>\n",
              "      <td>...</td>\n",
              "      <td>3</td>\n",
              "      <td>752</td>\n",
              "      <td>0</td>\n",
              "      <td>2</td>\n",
              "      <td>2</td>\n",
              "      <td>1</td>\n",
              "      <td>2</td>\n",
              "      <td>4</td>\n",
              "      <td>247</td>\n",
              "      <td>NaN</td>\n",
              "    </tr>\n",
              "    <tr>\n",
              "      <th>אבו עבדון שבט</th>\n",
              "      <td>18</td>\n",
              "      <td>958</td>\n",
              "      <td>142</td>\n",
              "      <td>41</td>\n",
              "      <td>1</td>\n",
              "      <td>40</td>\n",
              "      <td>0</td>\n",
              "      <td>0</td>\n",
              "      <td>40</td>\n",
              "      <td>0</td>\n",
              "      <td>...</td>\n",
              "      <td>0</td>\n",
              "      <td>0</td>\n",
              "      <td>0</td>\n",
              "      <td>0</td>\n",
              "      <td>0</td>\n",
              "      <td>0</td>\n",
              "      <td>0</td>\n",
              "      <td>0</td>\n",
              "      <td>0</td>\n",
              "      <td>NaN</td>\n",
              "    </tr>\n",
              "    <tr>\n",
              "      <th>אבו קורינאת שבט</th>\n",
              "      <td>18</td>\n",
              "      <td>968</td>\n",
              "      <td>3037</td>\n",
              "      <td>1336</td>\n",
              "      <td>8</td>\n",
              "      <td>1328</td>\n",
              "      <td>9</td>\n",
              "      <td>0</td>\n",
              "      <td>1263</td>\n",
              "      <td>0</td>\n",
              "      <td>...</td>\n",
              "      <td>0</td>\n",
              "      <td>33</td>\n",
              "      <td>0</td>\n",
              "      <td>2</td>\n",
              "      <td>1</td>\n",
              "      <td>0</td>\n",
              "      <td>2</td>\n",
              "      <td>1</td>\n",
              "      <td>0</td>\n",
              "      <td>NaN</td>\n",
              "    </tr>\n",
              "  </tbody>\n",
              "</table>\n",
              "<p>5 rows × 37 columns</p>\n",
              "</div>"
            ],
            "text/plain": [
              "                 סמל ועדה  סמל ישוב   בזב  מצביעים  פסולים  כשרים  אמת  ג  \\\n",
              "שם ישוב                                                                     \n",
              "אבו גווייעד שבט        18       967  2018      595       6    589   13  0   \n",
              "אבו גוש                 2       472  4821     2718      36   2682   75  4   \n",
              "אבו סנאן                6       473  9422     6090      53   6037   92  6   \n",
              "אבו עבדון שבט          18       958   142       41       1     40    0  0   \n",
              "אבו קורינאת שבט        18       968  3037     1336       8   1328    9  0   \n",
              "\n",
              "                 ודעם  ז  ...  נק   פה  ףז  ץ  ק  קי  קך  קץ   שס  Unnamed: 37  \n",
              "שם ישוב                   ...                                                   \n",
              "אבו גווייעד שבט   554  0  ...   0    8   2  0  0   0   0   2    2          NaN  \n",
              "אבו גוש          2157  0  ...   2  123   0  2  0   0   1   4   14          NaN  \n",
              "אבו סנאן         4458  0  ...   3  752   0  2  2   1   2   4  247          NaN  \n",
              "אבו עבדון שבט      40  0  ...   0    0   0  0  0   0   0   0    0          NaN  \n",
              "אבו קורינאת שבט  1263  0  ...   0   33   0  2  1   0   2   1    0          NaN  \n",
              "\n",
              "[5 rows x 37 columns]"
            ]
          },
          "metadata": {
            "tags": []
          },
          "execution_count": 13
        }
      ]
    },
    {
      "cell_type": "code",
      "metadata": {
        "id": "PVfhjKgS16sL",
        "outputId": "397b74de-1e1e-4a10-d310-97120e2cc9b5",
        "colab": {
          "base_uri": "https://localhost:8080/",
          "height": 34
        }
      },
      "source": [
        "df_2020 = df_2020_raw.drop('סמל ועדה', axis=1) # new column added in Sep 2019\n",
        "df_2020 = df_2020[df_2020.columns[5:-1]] # removing \"metadata\" columns\n",
        "print(\"{} votes in March 2020\".format(df_2020_raw['כשרים']['מעטפות חיצוניות']) + ' מעטפות חיצוניות ')\n",
        "\n"
      ],
      "execution_count": null,
      "outputs": [
        {
          "output_type": "stream",
          "text": [
            "327702 votes in March 2020 מעטפות חיצוניות \n"
          ],
          "name": "stdout"
        }
      ]
    },
    {
      "cell_type": "code",
      "metadata": {
        "id": "YFjNVxdWjgf1",
        "outputId": "47e5460e-b3d4-4666-8810-46735eae61b6",
        "colab": {
          "base_uri": "https://localhost:8080/",
          "height": 320
        }
      },
      "source": [
        "print(df_2020_raw.columns)\n",
        "df_2020.head()\n"
      ],
      "execution_count": null,
      "outputs": [
        {
          "output_type": "stream",
          "text": [
            "Index(['סמל ועדה', 'סמל ישוב', 'בזב', 'מצביעים', 'פסולים', 'כשרים', 'אמת', 'ג',\n",
            "       'ודעם', 'ז', 'זך', 'זץ', 'טב', 'י', 'יז', 'ינ', 'יף', 'יק', 'יר', 'כ',\n",
            "       'כן', 'ל', 'מחל', 'נ', 'נז', 'ני', 'נץ', 'נק', 'פה', 'ףז', 'ץ', 'ק',\n",
            "       'קי', 'קך', 'קץ', 'שס', 'Unnamed: 37'],\n",
            "      dtype='object')\n"
          ],
          "name": "stdout"
        },
        {
          "output_type": "execute_result",
          "data": {
            "text/html": [
              "<div>\n",
              "<style scoped>\n",
              "    .dataframe tbody tr th:only-of-type {\n",
              "        vertical-align: middle;\n",
              "    }\n",
              "\n",
              "    .dataframe tbody tr th {\n",
              "        vertical-align: top;\n",
              "    }\n",
              "\n",
              "    .dataframe thead th {\n",
              "        text-align: right;\n",
              "    }\n",
              "</style>\n",
              "<table border=\"1\" class=\"dataframe\">\n",
              "  <thead>\n",
              "    <tr style=\"text-align: right;\">\n",
              "      <th></th>\n",
              "      <th>אמת</th>\n",
              "      <th>ג</th>\n",
              "      <th>ודעם</th>\n",
              "      <th>ז</th>\n",
              "      <th>זך</th>\n",
              "      <th>זץ</th>\n",
              "      <th>טב</th>\n",
              "      <th>י</th>\n",
              "      <th>יז</th>\n",
              "      <th>ינ</th>\n",
              "      <th>...</th>\n",
              "      <th>נץ</th>\n",
              "      <th>נק</th>\n",
              "      <th>פה</th>\n",
              "      <th>ףז</th>\n",
              "      <th>ץ</th>\n",
              "      <th>ק</th>\n",
              "      <th>קי</th>\n",
              "      <th>קך</th>\n",
              "      <th>קץ</th>\n",
              "      <th>שס</th>\n",
              "    </tr>\n",
              "    <tr>\n",
              "      <th>שם ישוב</th>\n",
              "      <th></th>\n",
              "      <th></th>\n",
              "      <th></th>\n",
              "      <th></th>\n",
              "      <th></th>\n",
              "      <th></th>\n",
              "      <th></th>\n",
              "      <th></th>\n",
              "      <th></th>\n",
              "      <th></th>\n",
              "      <th></th>\n",
              "      <th></th>\n",
              "      <th></th>\n",
              "      <th></th>\n",
              "      <th></th>\n",
              "      <th></th>\n",
              "      <th></th>\n",
              "      <th></th>\n",
              "      <th></th>\n",
              "      <th></th>\n",
              "      <th></th>\n",
              "    </tr>\n",
              "  </thead>\n",
              "  <tbody>\n",
              "    <tr>\n",
              "      <th>אבו גווייעד שבט</th>\n",
              "      <td>13</td>\n",
              "      <td>0</td>\n",
              "      <td>554</td>\n",
              "      <td>0</td>\n",
              "      <td>0</td>\n",
              "      <td>0</td>\n",
              "      <td>0</td>\n",
              "      <td>0</td>\n",
              "      <td>1</td>\n",
              "      <td>0</td>\n",
              "      <td>...</td>\n",
              "      <td>0</td>\n",
              "      <td>0</td>\n",
              "      <td>8</td>\n",
              "      <td>2</td>\n",
              "      <td>0</td>\n",
              "      <td>0</td>\n",
              "      <td>0</td>\n",
              "      <td>0</td>\n",
              "      <td>2</td>\n",
              "      <td>2</td>\n",
              "    </tr>\n",
              "    <tr>\n",
              "      <th>אבו גוש</th>\n",
              "      <td>75</td>\n",
              "      <td>4</td>\n",
              "      <td>2157</td>\n",
              "      <td>0</td>\n",
              "      <td>0</td>\n",
              "      <td>0</td>\n",
              "      <td>5</td>\n",
              "      <td>0</td>\n",
              "      <td>0</td>\n",
              "      <td>5</td>\n",
              "      <td>...</td>\n",
              "      <td>3</td>\n",
              "      <td>2</td>\n",
              "      <td>123</td>\n",
              "      <td>0</td>\n",
              "      <td>2</td>\n",
              "      <td>0</td>\n",
              "      <td>0</td>\n",
              "      <td>1</td>\n",
              "      <td>4</td>\n",
              "      <td>14</td>\n",
              "    </tr>\n",
              "    <tr>\n",
              "      <th>אבו סנאן</th>\n",
              "      <td>92</td>\n",
              "      <td>6</td>\n",
              "      <td>4458</td>\n",
              "      <td>0</td>\n",
              "      <td>1</td>\n",
              "      <td>0</td>\n",
              "      <td>16</td>\n",
              "      <td>1</td>\n",
              "      <td>2</td>\n",
              "      <td>13</td>\n",
              "      <td>...</td>\n",
              "      <td>3</td>\n",
              "      <td>3</td>\n",
              "      <td>752</td>\n",
              "      <td>0</td>\n",
              "      <td>2</td>\n",
              "      <td>2</td>\n",
              "      <td>1</td>\n",
              "      <td>2</td>\n",
              "      <td>4</td>\n",
              "      <td>247</td>\n",
              "    </tr>\n",
              "    <tr>\n",
              "      <th>אבו עבדון שבט</th>\n",
              "      <td>0</td>\n",
              "      <td>0</td>\n",
              "      <td>40</td>\n",
              "      <td>0</td>\n",
              "      <td>0</td>\n",
              "      <td>0</td>\n",
              "      <td>0</td>\n",
              "      <td>0</td>\n",
              "      <td>0</td>\n",
              "      <td>0</td>\n",
              "      <td>...</td>\n",
              "      <td>0</td>\n",
              "      <td>0</td>\n",
              "      <td>0</td>\n",
              "      <td>0</td>\n",
              "      <td>0</td>\n",
              "      <td>0</td>\n",
              "      <td>0</td>\n",
              "      <td>0</td>\n",
              "      <td>0</td>\n",
              "      <td>0</td>\n",
              "    </tr>\n",
              "    <tr>\n",
              "      <th>אבו קורינאת שבט</th>\n",
              "      <td>9</td>\n",
              "      <td>0</td>\n",
              "      <td>1263</td>\n",
              "      <td>0</td>\n",
              "      <td>0</td>\n",
              "      <td>0</td>\n",
              "      <td>1</td>\n",
              "      <td>0</td>\n",
              "      <td>0</td>\n",
              "      <td>3</td>\n",
              "      <td>...</td>\n",
              "      <td>1</td>\n",
              "      <td>0</td>\n",
              "      <td>33</td>\n",
              "      <td>0</td>\n",
              "      <td>2</td>\n",
              "      <td>1</td>\n",
              "      <td>0</td>\n",
              "      <td>2</td>\n",
              "      <td>1</td>\n",
              "      <td>0</td>\n",
              "    </tr>\n",
              "  </tbody>\n",
              "</table>\n",
              "<p>5 rows × 30 columns</p>\n",
              "</div>"
            ],
            "text/plain": [
              "                 אמת  ג  ודעם  ז  זך  זץ  טב  י  יז  ינ  ...  נץ  נק   פה  ףז  \\\n",
              "שם ישוב                                                  ...                    \n",
              "אבו גווייעד שבט   13  0   554  0   0   0   0  0   1   0  ...   0   0    8   2   \n",
              "אבו גוש           75  4  2157  0   0   0   5  0   0   5  ...   3   2  123   0   \n",
              "אבו סנאן          92  6  4458  0   1   0  16  1   2  13  ...   3   3  752   0   \n",
              "אבו עבדון שבט      0  0    40  0   0   0   0  0   0   0  ...   0   0    0   0   \n",
              "אבו קורינאת שבט    9  0  1263  0   0   0   1  0   0   3  ...   1   0   33   0   \n",
              "\n",
              "                 ץ  ק  קי  קך  קץ   שס  \n",
              "שם ישוב                                 \n",
              "אבו גווייעד שבט  0  0   0   0   2    2  \n",
              "אבו גוש          2  0   0   1   4   14  \n",
              "אבו סנאן         2  2   1   2   4  247  \n",
              "אבו עבדון שבט    0  0   0   0   0    0  \n",
              "אבו קורינאת שבט  2  1   0   2   1    0  \n",
              "\n",
              "[5 rows x 30 columns]"
            ]
          },
          "metadata": {
            "tags": []
          },
          "execution_count": 15
        }
      ]
    },
    {
      "cell_type": "code",
      "metadata": {
        "id": "w_T9kVJ9m1cE",
        "outputId": "ffebfb64-8aed-42b4-d244-11dc52d98e90",
        "colab": {
          "base_uri": "https://localhost:8080/",
          "height": 317
        }
      },
      "source": [
        "df_2020.describe()\n"
      ],
      "execution_count": null,
      "outputs": [
        {
          "output_type": "execute_result",
          "data": {
            "text/html": [
              "<div>\n",
              "<style scoped>\n",
              "    .dataframe tbody tr th:only-of-type {\n",
              "        vertical-align: middle;\n",
              "    }\n",
              "\n",
              "    .dataframe tbody tr th {\n",
              "        vertical-align: top;\n",
              "    }\n",
              "\n",
              "    .dataframe thead th {\n",
              "        text-align: right;\n",
              "    }\n",
              "</style>\n",
              "<table border=\"1\" class=\"dataframe\">\n",
              "  <thead>\n",
              "    <tr style=\"text-align: right;\">\n",
              "      <th></th>\n",
              "      <th>אמת</th>\n",
              "      <th>ג</th>\n",
              "      <th>ודעם</th>\n",
              "      <th>ז</th>\n",
              "      <th>זך</th>\n",
              "      <th>זץ</th>\n",
              "      <th>טב</th>\n",
              "      <th>י</th>\n",
              "      <th>יז</th>\n",
              "      <th>ינ</th>\n",
              "      <th>...</th>\n",
              "      <th>נץ</th>\n",
              "      <th>נק</th>\n",
              "      <th>פה</th>\n",
              "      <th>ףז</th>\n",
              "      <th>ץ</th>\n",
              "      <th>ק</th>\n",
              "      <th>קי</th>\n",
              "      <th>קך</th>\n",
              "      <th>קץ</th>\n",
              "      <th>שס</th>\n",
              "    </tr>\n",
              "  </thead>\n",
              "  <tbody>\n",
              "    <tr>\n",
              "      <th>count</th>\n",
              "      <td>1214.000000</td>\n",
              "      <td>1214.000000</td>\n",
              "      <td>1214.000000</td>\n",
              "      <td>1214.000000</td>\n",
              "      <td>1214.000000</td>\n",
              "      <td>1214.0</td>\n",
              "      <td>1214.000000</td>\n",
              "      <td>1214.000000</td>\n",
              "      <td>1214.000000</td>\n",
              "      <td>1214.000000</td>\n",
              "      <td>...</td>\n",
              "      <td>1214.000000</td>\n",
              "      <td>1214.000000</td>\n",
              "      <td>1214.000000</td>\n",
              "      <td>1214.000000</td>\n",
              "      <td>1214.000000</td>\n",
              "      <td>1214.000000</td>\n",
              "      <td>1214.000000</td>\n",
              "      <td>1214.000000</td>\n",
              "      <td>1214.000000</td>\n",
              "      <td>1214.000000</td>\n",
              "    </tr>\n",
              "    <tr>\n",
              "      <th>mean</th>\n",
              "      <td>220.329489</td>\n",
              "      <td>226.060132</td>\n",
              "      <td>479.000824</td>\n",
              "      <td>3.114498</td>\n",
              "      <td>0.172982</td>\n",
              "      <td>0.0</td>\n",
              "      <td>198.261120</td>\n",
              "      <td>0.253707</td>\n",
              "      <td>0.281713</td>\n",
              "      <td>0.557661</td>\n",
              "      <td>...</td>\n",
              "      <td>15.981878</td>\n",
              "      <td>0.512356</td>\n",
              "      <td>1005.256178</td>\n",
              "      <td>1.213344</td>\n",
              "      <td>0.504119</td>\n",
              "      <td>0.807249</td>\n",
              "      <td>0.364086</td>\n",
              "      <td>0.557661</td>\n",
              "      <td>1.132619</td>\n",
              "      <td>290.653213</td>\n",
              "    </tr>\n",
              "    <tr>\n",
              "      <th>std</th>\n",
              "      <td>1493.634165</td>\n",
              "      <td>2577.916666</td>\n",
              "      <td>2217.089009</td>\n",
              "      <td>23.027370</td>\n",
              "      <td>0.976928</td>\n",
              "      <td>0.0</td>\n",
              "      <td>1157.402854</td>\n",
              "      <td>1.675648</td>\n",
              "      <td>1.991667</td>\n",
              "      <td>2.430817</td>\n",
              "      <td>...</td>\n",
              "      <td>86.375346</td>\n",
              "      <td>2.181258</td>\n",
              "      <td>5936.253846</td>\n",
              "      <td>13.314874</td>\n",
              "      <td>2.672797</td>\n",
              "      <td>4.035181</td>\n",
              "      <td>1.688200</td>\n",
              "      <td>2.445694</td>\n",
              "      <td>5.188742</td>\n",
              "      <td>1945.288573</td>\n",
              "    </tr>\n",
              "    <tr>\n",
              "      <th>min</th>\n",
              "      <td>0.000000</td>\n",
              "      <td>0.000000</td>\n",
              "      <td>0.000000</td>\n",
              "      <td>0.000000</td>\n",
              "      <td>0.000000</td>\n",
              "      <td>0.0</td>\n",
              "      <td>0.000000</td>\n",
              "      <td>0.000000</td>\n",
              "      <td>0.000000</td>\n",
              "      <td>0.000000</td>\n",
              "      <td>...</td>\n",
              "      <td>0.000000</td>\n",
              "      <td>0.000000</td>\n",
              "      <td>0.000000</td>\n",
              "      <td>0.000000</td>\n",
              "      <td>0.000000</td>\n",
              "      <td>0.000000</td>\n",
              "      <td>0.000000</td>\n",
              "      <td>0.000000</td>\n",
              "      <td>0.000000</td>\n",
              "      <td>0.000000</td>\n",
              "    </tr>\n",
              "    <tr>\n",
              "      <th>25%</th>\n",
              "      <td>9.000000</td>\n",
              "      <td>0.000000</td>\n",
              "      <td>0.000000</td>\n",
              "      <td>0.000000</td>\n",
              "      <td>0.000000</td>\n",
              "      <td>0.0</td>\n",
              "      <td>5.000000</td>\n",
              "      <td>0.000000</td>\n",
              "      <td>0.000000</td>\n",
              "      <td>0.000000</td>\n",
              "      <td>...</td>\n",
              "      <td>0.000000</td>\n",
              "      <td>0.000000</td>\n",
              "      <td>35.000000</td>\n",
              "      <td>0.000000</td>\n",
              "      <td>0.000000</td>\n",
              "      <td>0.000000</td>\n",
              "      <td>0.000000</td>\n",
              "      <td>0.000000</td>\n",
              "      <td>0.000000</td>\n",
              "      <td>1.000000</td>\n",
              "    </tr>\n",
              "    <tr>\n",
              "      <th>50%</th>\n",
              "      <td>38.500000</td>\n",
              "      <td>1.500000</td>\n",
              "      <td>2.000000</td>\n",
              "      <td>0.000000</td>\n",
              "      <td>0.000000</td>\n",
              "      <td>0.0</td>\n",
              "      <td>12.000000</td>\n",
              "      <td>0.000000</td>\n",
              "      <td>0.000000</td>\n",
              "      <td>0.000000</td>\n",
              "      <td>...</td>\n",
              "      <td>1.000000</td>\n",
              "      <td>0.000000</td>\n",
              "      <td>134.000000</td>\n",
              "      <td>0.000000</td>\n",
              "      <td>0.000000</td>\n",
              "      <td>0.000000</td>\n",
              "      <td>0.000000</td>\n",
              "      <td>0.000000</td>\n",
              "      <td>0.000000</td>\n",
              "      <td>5.000000</td>\n",
              "    </tr>\n",
              "    <tr>\n",
              "      <th>75%</th>\n",
              "      <td>98.750000</td>\n",
              "      <td>6.000000</td>\n",
              "      <td>7.000000</td>\n",
              "      <td>1.000000</td>\n",
              "      <td>0.000000</td>\n",
              "      <td>0.0</td>\n",
              "      <td>47.000000</td>\n",
              "      <td>0.000000</td>\n",
              "      <td>0.000000</td>\n",
              "      <td>0.000000</td>\n",
              "      <td>...</td>\n",
              "      <td>4.000000</td>\n",
              "      <td>0.000000</td>\n",
              "      <td>290.750000</td>\n",
              "      <td>0.000000</td>\n",
              "      <td>0.000000</td>\n",
              "      <td>0.000000</td>\n",
              "      <td>0.000000</td>\n",
              "      <td>0.000000</td>\n",
              "      <td>0.000000</td>\n",
              "      <td>29.000000</td>\n",
              "    </tr>\n",
              "    <tr>\n",
              "      <th>max</th>\n",
              "      <td>38808.000000</td>\n",
              "      <td>63782.000000</td>\n",
              "      <td>33145.000000</td>\n",
              "      <td>623.000000</td>\n",
              "      <td>18.000000</td>\n",
              "      <td>0.0</td>\n",
              "      <td>27357.000000</td>\n",
              "      <td>29.000000</td>\n",
              "      <td>57.000000</td>\n",
              "      <td>36.000000</td>\n",
              "      <td>...</td>\n",
              "      <td>1784.000000</td>\n",
              "      <td>46.000000</td>\n",
              "      <td>128637.000000</td>\n",
              "      <td>441.000000</td>\n",
              "      <td>55.000000</td>\n",
              "      <td>79.000000</td>\n",
              "      <td>27.000000</td>\n",
              "      <td>47.000000</td>\n",
              "      <td>87.000000</td>\n",
              "      <td>44649.000000</td>\n",
              "    </tr>\n",
              "  </tbody>\n",
              "</table>\n",
              "<p>8 rows × 30 columns</p>\n",
              "</div>"
            ],
            "text/plain": [
              "                אמת             ג          ודעם            ז           זך  \\\n",
              "count   1214.000000   1214.000000   1214.000000  1214.000000  1214.000000   \n",
              "mean     220.329489    226.060132    479.000824     3.114498     0.172982   \n",
              "std     1493.634165   2577.916666   2217.089009    23.027370     0.976928   \n",
              "min        0.000000      0.000000      0.000000     0.000000     0.000000   \n",
              "25%        9.000000      0.000000      0.000000     0.000000     0.000000   \n",
              "50%       38.500000      1.500000      2.000000     0.000000     0.000000   \n",
              "75%       98.750000      6.000000      7.000000     1.000000     0.000000   \n",
              "max    38808.000000  63782.000000  33145.000000   623.000000    18.000000   \n",
              "\n",
              "           זץ            טב            י           יז           ינ  ...  \\\n",
              "count  1214.0   1214.000000  1214.000000  1214.000000  1214.000000  ...   \n",
              "mean      0.0    198.261120     0.253707     0.281713     0.557661  ...   \n",
              "std       0.0   1157.402854     1.675648     1.991667     2.430817  ...   \n",
              "min       0.0      0.000000     0.000000     0.000000     0.000000  ...   \n",
              "25%       0.0      5.000000     0.000000     0.000000     0.000000  ...   \n",
              "50%       0.0     12.000000     0.000000     0.000000     0.000000  ...   \n",
              "75%       0.0     47.000000     0.000000     0.000000     0.000000  ...   \n",
              "max       0.0  27357.000000    29.000000    57.000000    36.000000  ...   \n",
              "\n",
              "                נץ           נק             פה           ףז            ץ  \\\n",
              "count  1214.000000  1214.000000    1214.000000  1214.000000  1214.000000   \n",
              "mean     15.981878     0.512356    1005.256178     1.213344     0.504119   \n",
              "std      86.375346     2.181258    5936.253846    13.314874     2.672797   \n",
              "min       0.000000     0.000000       0.000000     0.000000     0.000000   \n",
              "25%       0.000000     0.000000      35.000000     0.000000     0.000000   \n",
              "50%       1.000000     0.000000     134.000000     0.000000     0.000000   \n",
              "75%       4.000000     0.000000     290.750000     0.000000     0.000000   \n",
              "max    1784.000000    46.000000  128637.000000   441.000000    55.000000   \n",
              "\n",
              "                 ק           קי           קך           קץ            שס  \n",
              "count  1214.000000  1214.000000  1214.000000  1214.000000   1214.000000  \n",
              "mean      0.807249     0.364086     0.557661     1.132619    290.653213  \n",
              "std       4.035181     1.688200     2.445694     5.188742   1945.288573  \n",
              "min       0.000000     0.000000     0.000000     0.000000      0.000000  \n",
              "25%       0.000000     0.000000     0.000000     0.000000      1.000000  \n",
              "50%       0.000000     0.000000     0.000000     0.000000      5.000000  \n",
              "75%       0.000000     0.000000     0.000000     0.000000     29.000000  \n",
              "max      79.000000    27.000000    47.000000    87.000000  44649.000000  \n",
              "\n",
              "[8 rows x 30 columns]"
            ]
          },
          "metadata": {
            "tags": []
          },
          "execution_count": 16
        }
      ]
    },
    {
      "cell_type": "code",
      "metadata": {
        "id": "WkA-6k1q--vR",
        "outputId": "13693781-ed3c-43a0-d397-9c59040a8393",
        "colab": {
          "base_uri": "https://localhost:8080/",
          "height": 235
        }
      },
      "source": [
        "# df_2020.reset_index(inplace=True)\n",
        "df_2020.style.set_properties(**{'text-align': 'left'})\n",
        "df_2020.head()\n",
        "df_2020[1:4]\n",
        "\n",
        "\n"
      ],
      "execution_count": null,
      "outputs": [
        {
          "output_type": "execute_result",
          "data": {
            "text/html": [
              "<div>\n",
              "<style scoped>\n",
              "    .dataframe tbody tr th:only-of-type {\n",
              "        vertical-align: middle;\n",
              "    }\n",
              "\n",
              "    .dataframe tbody tr th {\n",
              "        vertical-align: top;\n",
              "    }\n",
              "\n",
              "    .dataframe thead th {\n",
              "        text-align: right;\n",
              "    }\n",
              "</style>\n",
              "<table border=\"1\" class=\"dataframe\">\n",
              "  <thead>\n",
              "    <tr style=\"text-align: right;\">\n",
              "      <th></th>\n",
              "      <th>אמת</th>\n",
              "      <th>ג</th>\n",
              "      <th>ודעם</th>\n",
              "      <th>ז</th>\n",
              "      <th>זך</th>\n",
              "      <th>זץ</th>\n",
              "      <th>טב</th>\n",
              "      <th>י</th>\n",
              "      <th>יז</th>\n",
              "      <th>ינ</th>\n",
              "      <th>...</th>\n",
              "      <th>נץ</th>\n",
              "      <th>נק</th>\n",
              "      <th>פה</th>\n",
              "      <th>ףז</th>\n",
              "      <th>ץ</th>\n",
              "      <th>ק</th>\n",
              "      <th>קי</th>\n",
              "      <th>קך</th>\n",
              "      <th>קץ</th>\n",
              "      <th>שס</th>\n",
              "    </tr>\n",
              "    <tr>\n",
              "      <th>שם ישוב</th>\n",
              "      <th></th>\n",
              "      <th></th>\n",
              "      <th></th>\n",
              "      <th></th>\n",
              "      <th></th>\n",
              "      <th></th>\n",
              "      <th></th>\n",
              "      <th></th>\n",
              "      <th></th>\n",
              "      <th></th>\n",
              "      <th></th>\n",
              "      <th></th>\n",
              "      <th></th>\n",
              "      <th></th>\n",
              "      <th></th>\n",
              "      <th></th>\n",
              "      <th></th>\n",
              "      <th></th>\n",
              "      <th></th>\n",
              "      <th></th>\n",
              "      <th></th>\n",
              "    </tr>\n",
              "  </thead>\n",
              "  <tbody>\n",
              "    <tr>\n",
              "      <th>אבו גוש</th>\n",
              "      <td>75</td>\n",
              "      <td>4</td>\n",
              "      <td>2157</td>\n",
              "      <td>0</td>\n",
              "      <td>0</td>\n",
              "      <td>0</td>\n",
              "      <td>5</td>\n",
              "      <td>0</td>\n",
              "      <td>0</td>\n",
              "      <td>5</td>\n",
              "      <td>...</td>\n",
              "      <td>3</td>\n",
              "      <td>2</td>\n",
              "      <td>123</td>\n",
              "      <td>0</td>\n",
              "      <td>2</td>\n",
              "      <td>0</td>\n",
              "      <td>0</td>\n",
              "      <td>1</td>\n",
              "      <td>4</td>\n",
              "      <td>14</td>\n",
              "    </tr>\n",
              "    <tr>\n",
              "      <th>אבו סנאן</th>\n",
              "      <td>92</td>\n",
              "      <td>6</td>\n",
              "      <td>4458</td>\n",
              "      <td>0</td>\n",
              "      <td>1</td>\n",
              "      <td>0</td>\n",
              "      <td>16</td>\n",
              "      <td>1</td>\n",
              "      <td>2</td>\n",
              "      <td>13</td>\n",
              "      <td>...</td>\n",
              "      <td>3</td>\n",
              "      <td>3</td>\n",
              "      <td>752</td>\n",
              "      <td>0</td>\n",
              "      <td>2</td>\n",
              "      <td>2</td>\n",
              "      <td>1</td>\n",
              "      <td>2</td>\n",
              "      <td>4</td>\n",
              "      <td>247</td>\n",
              "    </tr>\n",
              "    <tr>\n",
              "      <th>אבו עבדון שבט</th>\n",
              "      <td>0</td>\n",
              "      <td>0</td>\n",
              "      <td>40</td>\n",
              "      <td>0</td>\n",
              "      <td>0</td>\n",
              "      <td>0</td>\n",
              "      <td>0</td>\n",
              "      <td>0</td>\n",
              "      <td>0</td>\n",
              "      <td>0</td>\n",
              "      <td>...</td>\n",
              "      <td>0</td>\n",
              "      <td>0</td>\n",
              "      <td>0</td>\n",
              "      <td>0</td>\n",
              "      <td>0</td>\n",
              "      <td>0</td>\n",
              "      <td>0</td>\n",
              "      <td>0</td>\n",
              "      <td>0</td>\n",
              "      <td>0</td>\n",
              "    </tr>\n",
              "  </tbody>\n",
              "</table>\n",
              "<p>3 rows × 30 columns</p>\n",
              "</div>"
            ],
            "text/plain": [
              "               אמת  ג  ודעם  ז  זך  זץ  טב  י  יז  ינ  ...  נץ  נק   פה  ףז  \\\n",
              "שם ישוב                                                ...                    \n",
              "אבו גוש         75  4  2157  0   0   0   5  0   0   5  ...   3   2  123   0   \n",
              "אבו סנאן        92  6  4458  0   1   0  16  1   2  13  ...   3   3  752   0   \n",
              "אבו עבדון שבט    0  0    40  0   0   0   0  0   0   0  ...   0   0    0   0   \n",
              "\n",
              "               ץ  ק  קי  קך  קץ   שס  \n",
              "שם ישוב                               \n",
              "אבו גוש        2  0   0   1   4   14  \n",
              "אבו סנאן       2  2   1   2   4  247  \n",
              "אבו עבדון שבט  0  0   0   0   0    0  \n",
              "\n",
              "[3 rows x 30 columns]"
            ]
          },
          "metadata": {
            "tags": []
          },
          "execution_count": 17
        }
      ]
    },
    {
      "cell_type": "code",
      "metadata": {
        "id": "HeQX7NyNtWaX",
        "outputId": "a2c948b0-9161-4ad0-c9f1-51262fc7a8e9",
        "colab": {
          "base_uri": "https://localhost:8080/",
          "height": 544
        }
      },
      "source": [
        "df_2020.iloc[5]"
      ],
      "execution_count": null,
      "outputs": [
        {
          "output_type": "execute_result",
          "data": {
            "text/plain": [
              "אמת       9\n",
              "ג         0\n",
              "ודעם    264\n",
              "ז         0\n",
              "זך        0\n",
              "זץ        0\n",
              "טב        1\n",
              "י         0\n",
              "יז        0\n",
              "ינ        0\n",
              "יף        0\n",
              "יק        0\n",
              "יר        0\n",
              "כ         0\n",
              "כן        0\n",
              "ל         0\n",
              "מחל       3\n",
              "נ         0\n",
              "נז        0\n",
              "ני        0\n",
              "נץ        0\n",
              "נק        0\n",
              "פה       52\n",
              "ףז        0\n",
              "ץ         2\n",
              "ק         0\n",
              "קי        0\n",
              "קך        0\n",
              "קץ        0\n",
              "שס        0\n",
              "Name: אבו קרינאת יישוב, dtype: int64"
            ]
          },
          "metadata": {
            "tags": []
          },
          "execution_count": 18
        }
      ]
    },
    {
      "cell_type": "code",
      "metadata": {
        "id": "vTQRwkFftm8G",
        "outputId": "f2e1263f-f917-42f6-80f1-b987555f120b",
        "colab": {
          "base_uri": "https://localhost:8080/",
          "height": 544
        }
      },
      "source": [
        "df_2020.loc['הרצליה']"
      ],
      "execution_count": null,
      "outputs": [
        {
          "output_type": "execute_result",
          "data": {
            "text/plain": [
              "אמת      4796\n",
              "ג         675\n",
              "ודעם      235\n",
              "ז          58\n",
              "זך          3\n",
              "זץ          0\n",
              "טב       1548\n",
              "י           1\n",
              "יז          1\n",
              "ינ          1\n",
              "יף          3\n",
              "יק          2\n",
              "יר          6\n",
              "כ           7\n",
              "כן          6\n",
              "ל        2301\n",
              "מחל     14894\n",
              "נ          43\n",
              "נז          9\n",
              "ני          2\n",
              "נץ        116\n",
              "נק          2\n",
              "פה      28206\n",
              "ףז         12\n",
              "ץ           4\n",
              "ק           5\n",
              "קי          3\n",
              "קך          3\n",
              "קץ         13\n",
              "שס       1878\n",
              "Name: הרצליה, dtype: int64"
            ]
          },
          "metadata": {
            "tags": []
          },
          "execution_count": 19
        }
      ]
    },
    {
      "cell_type": "markdown",
      "metadata": {
        "id": "EUuZQFD1cd89"
      },
      "source": [
        "Now let's do some plotting"
      ]
    },
    {
      "cell_type": "code",
      "metadata": {
        "id": "870LcQWgv2OB",
        "outputId": "2dcc80da-b24c-40d3-f8ae-3791b0e9901d",
        "colab": {
          "base_uri": "https://localhost:8080/",
          "height": 293
        }
      },
      "source": [
        "from matplotlib import pyplot as plt\n",
        "df_2020.loc['הרצליה'].plot.bar()"
      ],
      "execution_count": null,
      "outputs": [
        {
          "output_type": "execute_result",
          "data": {
            "text/plain": [
              "<AxesSubplot:>"
            ]
          },
          "metadata": {
            "tags": []
          },
          "execution_count": 20
        },
        {
          "output_type": "display_data",
          "data": {
            "image/png": "[encoded data removed]",
            "text/plain": [
              "<Figure size 432x288 with 1 Axes>"
            ]
          },
          "metadata": {
            "tags": [],
            "needs_background": "light"
          }
        }
      ]
    },
    {
      "cell_type": "code",
      "metadata": {
        "id": "aVRVc3qWd_tL",
        "outputId": "210f4672-0cf1-40df-f568-98aeb041b943",
        "colab": {
          "base_uri": "https://localhost:8080/",
          "height": 293
        }
      },
      "source": [
        "df_2020.loc['אילת'].plot.bar()"
      ],
      "execution_count": null,
      "outputs": [
        {
          "output_type": "execute_result",
          "data": {
            "text/plain": [
              "<AxesSubplot:>"
            ]
          },
          "metadata": {
            "tags": []
          },
          "execution_count": 21
        },
        {
          "output_type": "display_data",
          "data": {
            "image/png": "[encoded data removed]",
            "text/plain": [
              "<Figure size 432x288 with 1 Axes>"
            ]
          },
          "metadata": {
            "tags": [],
            "needs_background": "light"
          }
        }
      ]
    },
    {
      "cell_type": "markdown",
      "metadata": {
        "id": "4uaRGD8JYVk0"
      },
      "source": [
        "Next, we create a function for showing a bar plot of the voting **percentage** in a given city, while showing only the parties above a % threshold "
      ]
    },
    {
      "cell_type": "code",
      "metadata": {
        "id": "gvcZSFcX_w49",
        "outputId": "32cbe5ea-0ffc-4a99-f991-31907e7ba3fc",
        "colab": {
          "base_uri": "https://localhost:8080/",
          "height": 293
        }
      },
      "source": [
        "# Compute votes share only for parties above a certain threshold \n",
        "def parties_votes_percents(df, thresh):\n",
        "    par = df.sum().div(df.sum().sum()).sort_values(ascending=False)\n",
        "    return par[par > thresh]\n",
        "\n",
        "total_votes = parties_votes_percents(df_2020, 0.001)  # total votes for each party\n",
        "total_votes.plot.bar()\n",
        "\n"
      ],
      "execution_count": null,
      "outputs": [
        {
          "output_type": "execute_result",
          "data": {
            "text/plain": [
              "<AxesSubplot:>"
            ]
          },
          "metadata": {
            "tags": []
          },
          "execution_count": 22
        },
        {
          "output_type": "display_data",
          "data": {
            "image/png": "[encoded data removed]",
            "text/plain": [
              "<Figure size 432x288 with 1 Axes>"
            ]
          },
          "metadata": {
            "tags": [],
            "needs_background": "light"
          }
        }
      ]
    },
    {
      "cell_type": "code",
      "metadata": {
        "id": "nBDU6GHnDCcN",
        "outputId": "4f2f2af2-b5f1-4a9a-cbb7-85870235bdb7",
        "colab": {
          "base_uri": "https://localhost:8080/",
          "height": 607
        }
      },
      "source": [
        "# Bar plot for a party, only showing values above a certain threshold\n",
        "def party_bar(df, thresh, city):\n",
        "    width = 0.3  # set column width \n",
        "    votes = parties_votes_percents(df, thresh)  # total votes for each party\n",
        "    n = len(votes)  # number of parties\n",
        "    names = votes.keys()\n",
        "\n",
        "    rev_names = [name[::-1] for name in list(names)]\n",
        "    fig, ax = plt.subplots()  # plt.subplots()\n",
        "\n",
        "    city_votes = df.loc[city,names] / df.loc[city,names].sum()\n",
        "    all_bar = ax.bar(np.arange(n), list(votes), width, color='b')\n",
        "    city_bar = ax.bar(np.arange(n)+width, list(city_votes), width, color='r')\n",
        "\n",
        "    ax.set_ylabel('Votes percent')\n",
        "    ax.set_xlabel('Parties Names')\n",
        "    ax.set_title('Votes percent per party 2019')\n",
        "    ax.set_xticks(np.arange(n))\n",
        "    ax.set_xticklabels(rev_names)\n",
        "    ax.legend((all_bar[0], city_bar[0]), ('Israel', city[::-1]))\n",
        "    plt.show()\n",
        "\n",
        "    return fig, ax\n",
        "\n",
        "\n",
        "party_bar(df_2020, 0.0325, 'טבריה')\n",
        "party_bar(df_2020, 0.0325, 'ירושלים')"
      ],
      "execution_count": null,
      "outputs": [
        {
          "output_type": "display_data",
          "data": {
            "image/png": "[encoded data removed]",
            "text/plain": [
              "<Figure size 432x288 with 1 Axes>"
            ]
          },
          "metadata": {
            "tags": [],
            "needs_background": "light"
          }
        },
        {
          "output_type": "display_data",
          "data": {
            "image/png": "[encoded data removed]",
            "text/plain": [
              "<Figure size 432x288 with 1 Axes>"
            ]
          },
          "metadata": {
            "tags": [],
            "needs_background": "light"
          }
        },
        {
          "output_type": "execute_result",
          "data": {
            "text/plain": [
              "(<Figure size 432x288 with 1 Axes>,\n",
              " <AxesSubplot:title={'center':'Votes percent per party 2019'}, xlabel='Parties Names', ylabel='Votes percent'>)"
            ]
          },
          "metadata": {
            "tags": []
          },
          "execution_count": 23
        }
      ]
    },
    {
      "cell_type": "markdown",
      "metadata": {
        "id": "dV6fkF2wjoNE"
      },
      "source": [
        "Show histogram of number of votes for a party \n"
      ]
    },
    {
      "cell_type": "code",
      "metadata": {
        "id": "uDcXxGBGjslG",
        "outputId": "32d73a6c-0fb5-4efc-8003-70b4d24a9c1f",
        "colab": {
          "base_uri": "https://localhost:8080/",
          "height": 282
        }
      },
      "source": [
        "df_2020_raw['כשרים'].hist(bins=100)"
      ],
      "execution_count": null,
      "outputs": [
        {
          "output_type": "execute_result",
          "data": {
            "text/plain": [
              "<AxesSubplot:>"
            ]
          },
          "metadata": {
            "tags": []
          },
          "execution_count": 24
        },
        {
          "output_type": "display_data",
          "data": {
            "image/png": "[encoded data removed]",
            "text/plain": [
              "<Figure size 432x288 with 1 Axes>"
            ]
          },
          "metadata": {
            "tags": [],
            "needs_background": "light"
          }
        }
      ]
    },
    {
      "cell_type": "markdown",
      "metadata": {
        "id": "FYSl-OXxfkTP"
      },
      "source": [
        "Find for a party the city with the strongest support"
      ]
    },
    {
      "cell_type": "code",
      "metadata": {
        "id": "xMmIS2ZIfsjN",
        "outputId": "ded394aa-6fae-4a23-8f41-e3f4d16d9a5c",
        "colab": {
          "base_uri": "https://localhost:8080/",
          "height": 153
        }
      },
      "source": [
        "def find_top_city(df, party):\n",
        "\n",
        "  votes_percent_per_city = df.div(df.sum(axis=1), axis=0)\n",
        "  print(votes_percent_per_city[party].max())\n",
        "  print(votes_percent_per_city[party].idxmax())\n",
        "\n",
        "find_top_city(df_2020, 'מחל')\n",
        "find_top_city(df_2020, 'פה')\n",
        "find_top_city(df_2020, 'ג')\n",
        "find_top_city(df_2020, 'ודעם')"
      ],
      "execution_count": null,
      "outputs": [
        {
          "output_type": "stream",
          "text": [
            "0.8726591760299626\n",
            "שדי תרומות\n",
            "0.7797927461139896\n",
            "עין יהב\n",
            "0.9672131147540983\n",
            "קוממיות\n",
            "1.0\n",
            "אבו עבדון שבט\n"
          ],
          "name": "stdout"
        }
      ]
    },
    {
      "cell_type": "markdown",
      "metadata": {
        "id": "0k67MMqsCSZK"
      },
      "source": [
        "Next, we want to compare two parties"
      ]
    },
    {
      "cell_type": "code",
      "metadata": {
        "id": "BfUOvdcECSZL"
      },
      "source": [
        "# Show party votes for two parties\n",
        "def two_parties_scatter(df, party1, party2):\n",
        "    votes_per_city = df.sum(axis=1)\n",
        "    party_share1 = df[party1] / votes_per_city\n",
        "    party_share2 = df[party2] / votes_per_city\n",
        "\n",
        "    plt.scatter(party_share1, party_share2)  # Here draw circles with area proportional to city size\n",
        "    plt.xlabel(party1[::-1])\n",
        "    plt.ylabel(party2[::-1])\n",
        "    plt.title('Scatter for two parties ' )\n",
        "    plt.show()\n"
      ],
      "execution_count": null,
      "outputs": []
    },
    {
      "cell_type": "code",
      "metadata": {
        "id": "ZZZ8OoDHCSZN",
        "outputId": "78e96623-6daf-4ba0-af49-f78ece39640e"
      },
      "source": [
        "two_parties_scatter(df_2020, \"אמת\", \"שס\")"
      ],
      "execution_count": null,
      "outputs": [
        {
          "output_type": "display_data",
          "data": {
            "image/png": "[encoded data removed]",
            "text/plain": [
              "<Figure size 432x288 with 1 Axes>"
            ]
          },
          "metadata": {
            "tags": [],
            "needs_background": "light"
          }
        }
      ]
    },
    {
      "cell_type": "code",
      "metadata": {
        "id": "F5K3EmiFCSZP",
        "outputId": "2528d9f4-5891-4b9b-9148-823f009b6d22"
      },
      "source": [
        "# Check sum of eligible votes \n",
        "df_2020.sum(axis=1) - df_2020_raw['כשרים'] "
      ],
      "execution_count": null,
      "outputs": [
        {
          "output_type": "execute_result",
          "data": {
            "text/plain": [
              "שם ישוב\n",
              "אבו גווייעד שבט     0\n",
              "אבו גוש             0\n",
              "אבו סנאן            0\n",
              "אבו עבדון שבט       0\n",
              "אבו קורינאת שבט     0\n",
              "                   ..\n",
              "תקומה               0\n",
              "תקוע                0\n",
              "תראבין אצאנע שבט    0\n",
              "תראבין אצאנעישוב    0\n",
              "תרום                0\n",
              "Length: 1214, dtype: int64"
            ]
          },
          "metadata": {
            "tags": []
          },
          "execution_count": 33
        }
      ]
    },
    {
      "cell_type": "markdown",
      "metadata": {
        "id": "wWR86a6YCSZR"
      },
      "source": [
        "Compute pairwise correlations between parties:"
      ]
    },
    {
      "cell_type": "code",
      "metadata": {
        "id": "6A2AnO0PCSZR",
        "outputId": "e7265f8b-1ae4-4a5c-954f-91321368d47a"
      },
      "source": [
        "parties_corr = df_2020.corr()\n",
        "print(parties_corr)"
      ],
      "execution_count": null,
      "outputs": [
        {
          "output_type": "stream",
          "text": [
            "           אמת         ג      ודעם         ז        זך  זץ        טב  \\\n",
            "אמת   1.000000  0.304462  0.270346  0.875118  0.702850 NaN  0.696774   \n",
            "ג     0.304462  1.000000  0.085095  0.344568  0.362572 NaN  0.556217   \n",
            "ודעם  0.270346  0.085095  1.000000  0.281739  0.336982 NaN  0.218383   \n",
            "ז     0.875118  0.344568  0.281739  1.000000  0.817508 NaN  0.879671   \n",
            "זך    0.702850  0.362572  0.336982  0.817508  1.000000 NaN  0.771325   \n",
            "זץ         NaN       NaN       NaN       NaN       NaN NaN       NaN   \n",
            "טב    0.696774  0.556217  0.218383  0.879671  0.771325 NaN  1.000000   \n",
            "י     0.587854  0.291903  0.221886  0.700717  0.787504 NaN  0.606822   \n",
            "יז    0.745184  0.338655  0.344909  0.941494  0.791830 NaN  0.862904   \n",
            "ינ    0.320324  0.164336  0.867100  0.430977  0.444321 NaN  0.382364   \n",
            "יף    0.587325  0.332086  0.387211  0.675577  0.750056 NaN  0.693018   \n",
            "יק    0.623761  0.593927  0.323269  0.735350  0.780575 NaN  0.806887   \n",
            "יר    0.754937  0.384407  0.353622  0.879396  0.853241 NaN  0.810510   \n",
            "כ     0.687156  0.582873  0.303015  0.852042  0.808226 NaN  0.941070   \n",
            "כן    0.761159  0.349348  0.356624  0.858576  0.873833 NaN  0.779496   \n",
            "ל     0.574818  0.297783  0.181892  0.680828  0.811577 NaN  0.633572   \n",
            "מחל   0.766607  0.447915  0.215532  0.883764  0.876144 NaN  0.873010   \n",
            "נ     0.821225  0.477073  0.259023  0.933500  0.851931 NaN  0.927649   \n",
            "נז    0.773408  0.483230  0.363627  0.901472  0.808865 NaN  0.891463   \n",
            "ני    0.690138  0.485544  0.373603  0.869865  0.842074 NaN  0.872340   \n",
            "נץ    0.693525  0.677435  0.210358  0.837418  0.793708 NaN  0.947927   \n",
            "נק    0.609935  0.280021  0.678462  0.754387  0.760364 NaN  0.683153   \n",
            "פה    0.961585  0.262384  0.242808  0.900434  0.750493 NaN  0.727464   \n",
            "ףז    0.658641  0.304686  0.280357  0.919798  0.709658 NaN  0.839324   \n",
            "ץ     0.785306  0.370626  0.446891  0.889921  0.856292 NaN  0.791973   \n",
            "ק     0.687547  0.283643  0.417370  0.838120  0.871748 NaN  0.737025   \n",
            "קי    0.659054  0.413515  0.492752  0.764548  0.836545 NaN  0.742474   \n",
            "קך    0.667764  0.426663  0.455481  0.817223  0.838074 NaN  0.817020   \n",
            "קץ    0.662697  0.497329  0.445758  0.794137  0.851257 NaN  0.819831   \n",
            "שס    0.560086  0.864382  0.152106  0.645168  0.672958 NaN  0.793682   \n",
            "\n",
            "             י        יז        ינ  ...        נץ        נק        פה  \\\n",
            "אמת   0.587854  0.745184  0.320324  ...  0.693525  0.609935  0.961585   \n",
            "ג     0.291903  0.338655  0.164336  ...  0.677435  0.280021  0.262384   \n",
            "ודעם  0.221886  0.344909  0.867100  ...  0.210358  0.678462  0.242808   \n",
            "ז     0.700717  0.941494  0.430977  ...  0.837418  0.754387  0.900434   \n",
            "זך    0.787504  0.791830  0.444321  ...  0.793708  0.760364  0.750493   \n",
            "זץ         NaN       NaN       NaN  ...       NaN       NaN       NaN   \n",
            "טב    0.606822  0.862904  0.382364  ...  0.947927  0.683153  0.727464   \n",
            "י     1.000000  0.667517  0.324491  ...  0.679713  0.626857  0.686015   \n",
            "יז    0.667517  1.000000  0.518047  ...  0.819281  0.800574  0.780831   \n",
            "ינ    0.324491  0.518047  1.000000  ...  0.371013  0.763437  0.316739   \n",
            "יף    0.647020  0.668152  0.479675  ...  0.685831  0.729268  0.674850   \n",
            "יק    0.679881  0.729950  0.453077  ...  0.859779  0.688216  0.645418   \n",
            "יר    0.803067  0.847057  0.487359  ...  0.826709  0.765193  0.816138   \n",
            "כ     0.661572  0.835364  0.464794  ...  0.939185  0.726806  0.706204   \n",
            "כן    0.850532  0.817393  0.474417  ...  0.802285  0.787922  0.847559   \n",
            "ל     0.856944  0.660661  0.300373  ...  0.694423  0.629963  0.706878   \n",
            "מחל   0.834915  0.837005  0.363638  ...  0.910328  0.725073  0.851207   \n",
            "נ     0.767280  0.881470  0.405264  ...  0.924018  0.745042  0.874586   \n",
            "נז    0.697507  0.875314  0.512909  ...  0.895697  0.799503  0.815680   \n",
            "ני    0.717577  0.865844  0.531860  ...  0.883287  0.792285  0.735301   \n",
            "נץ    0.679713  0.819281  0.371013  ...  1.000000  0.676323  0.716763   \n",
            "נק    0.626857  0.800574  0.763437  ...  0.676323  1.000000  0.647480   \n",
            "פה    0.686015  0.780831  0.316739  ...  0.716763  0.647480  1.000000   \n",
            "ףז    0.556299  0.926998  0.469143  ...  0.760525  0.724631  0.677537   \n",
            "ץ     0.767720  0.861457  0.556241  ...  0.794622  0.834496  0.842606   \n",
            "ק     0.854496  0.836833  0.537272  ...  0.762464  0.813736  0.771208   \n",
            "קי    0.801389  0.785209  0.573449  ...  0.791369  0.802717  0.710123   \n",
            "קך    0.747983  0.812601  0.577628  ...  0.838696  0.819681  0.737109   \n",
            "קץ    0.816404  0.793881  0.546309  ...  0.868765  0.806959  0.713118   \n",
            "שס    0.588981  0.620011  0.284883  ...  0.907234  0.544033  0.568255   \n",
            "\n",
            "            ףז         ץ         ק        קי        קך        קץ        שס  \n",
            "אמת   0.658641  0.785306  0.687547  0.659054  0.667764  0.662697  0.560086  \n",
            "ג     0.304686  0.370626  0.283643  0.413515  0.426663  0.497329  0.864382  \n",
            "ודעם  0.280357  0.446891  0.417370  0.492752  0.455481  0.445758  0.152106  \n",
            "ז     0.919798  0.889921  0.838120  0.764548  0.817223  0.794137  0.645168  \n",
            "זך    0.709658  0.856292  0.871748  0.836545  0.838074  0.851257  0.672958  \n",
            "זץ         NaN       NaN       NaN       NaN       NaN       NaN       NaN  \n",
            "טב    0.839324  0.791973  0.737025  0.742474  0.817020  0.819831  0.793682  \n",
            "י     0.556299  0.767720  0.854496  0.801389  0.747983  0.816404  0.588981  \n",
            "יז    0.926998  0.861457  0.836833  0.785209  0.812601  0.793881  0.620011  \n",
            "ינ    0.469143  0.556241  0.537272  0.573449  0.577628  0.546309  0.284883  \n",
            "יף    0.533851  0.814189  0.786936  0.753154  0.788210  0.786660  0.600828  \n",
            "יק    0.640956  0.785555  0.778756  0.794293  0.833430  0.855503  0.777859  \n",
            "יר    0.777354  0.897290  0.893976  0.858192  0.847369  0.849431  0.691781  \n",
            "כ     0.805878  0.808887  0.788753  0.802014  0.861414  0.872323  0.822132  \n",
            "כן    0.708790  0.935853  0.936581  0.878446  0.882039  0.887051  0.684679  \n",
            "ל     0.510546  0.820982  0.862579  0.786124  0.767683  0.775494  0.631308  \n",
            "מחל   0.738223  0.886883  0.889571  0.854817  0.885487  0.887388  0.796311  \n",
            "נ     0.808902  0.894259  0.860783  0.836208  0.878667  0.885652  0.784965  \n",
            "נז    0.809414  0.901305  0.857744  0.836858  0.883408  0.872565  0.765951  \n",
            "ני    0.817473  0.893859  0.862500  0.849298  0.893212  0.879019  0.764266  \n",
            "נץ    0.760525  0.794622  0.762464  0.791369  0.838696  0.868765  0.907234  \n",
            "נק    0.724631  0.834496  0.813736  0.802717  0.819681  0.806959  0.544033  \n",
            "פה    0.677537  0.842606  0.771208  0.710123  0.737109  0.713118  0.568255  \n",
            "ףז    1.000000  0.774493  0.735008  0.651643  0.733250  0.687906  0.552211  \n",
            "ץ     0.774493  1.000000  0.903420  0.857648  0.865121  0.863302  0.674107  \n",
            "ק     0.735008  0.903420  1.000000  0.891568  0.890034  0.880846  0.608587  \n",
            "קי    0.651643  0.857648  0.891568  1.000000  0.866471  0.900328  0.694787  \n",
            "קך    0.733250  0.865121  0.890034  0.866471  1.000000  0.905032  0.716860  \n",
            "קץ    0.687906  0.863302  0.880846  0.900328  0.905032  1.000000  0.761175  \n",
            "שס    0.552211  0.674107  0.608587  0.694787  0.716860  0.761175  1.000000  \n",
            "\n",
            "[30 rows x 30 columns]\n"
          ],
          "name": "stdout"
        }
      ]
    },
    {
      "cell_type": "markdown",
      "metadata": {
        "id": "qV1IXb1iCSZT"
      },
      "source": [
        "Show heatmap of the correlation matrix: \n"
      ]
    },
    {
      "cell_type": "code",
      "metadata": {
        "id": "z0RnxbBkCSZU",
        "outputId": "cdba7010-d646-46c3-c20f-47ad1ce776de"
      },
      "source": [
        "def heatmap_corr(corr_mat, names):\n",
        "    rev_names = [name[::-1] for name in list(names)]\n",
        "    fig, ax = plt.subplots()\n",
        "    im = ax.imshow(corr_mat, cmap=plt.get_cmap('viridis'))\n",
        "    n = corr_mat.shape[0]  # get number of variables \n",
        "    ax.set_xticks(np.arange(n))\n",
        "    ax.set_yticks(np.arange(n))\n",
        "    ax.set_xticklabels(rev_names)\n",
        "    ax.set_yticklabels(rev_names)\n",
        "    ax.set_title(\"Parties pairwise correlations\")\n",
        "    \n",
        "    # Create colorbar\n",
        "    cbar = ax.figure.colorbar(im, ax=ax) #  **cbar_kw)\n",
        "    cbar.ax.set_ylabel('votes correlation', rotation=-90, va=\"bottom\")\n",
        "\n",
        "    \n",
        "# need to extract only top 8 parties \n",
        "heatmap_corr(parties_corr, list(parties_corr.columns))"
      ],
      "execution_count": null,
      "outputs": [
        {
          "output_type": "display_data",
          "data": {
            "image/png": "[encoded data removed]",
            "text/plain": [
              "<Figure size 432x288 with 2 Axes>"
            ]
          },
          "metadata": {
            "tags": [],
            "needs_background": "light"
          }
        }
      ]
    },
    {
      "cell_type": "markdown",
      "metadata": {
        "id": "G5p6-lQ4CSZW"
      },
      "source": [
        "Create a dictionary mapping parties names to voting letters"
      ]
    },
    {
      "cell_type": "code",
      "metadata": {
        "id": "QM2Y_Ui6CSZW",
        "outputId": "7f86f518-ad05-409d-f60e-072eaac985b6"
      },
      "source": [
        "parties_dict_2020 ={'אמת' : \"עבודה גשר מרצ\", 'ג' : \"יהדות התורה\", 'ודעם'  : \"הרשימה המשותפת\", 'טב'  : \"ימינה\", 'נץ'  : \"עוצמה יהודית\",\n",
        " 'ל'  : \"ישראל ביתנו\", 'מחל'  : \"הליכוד\",  'פה'  : \"כחול לבן\", 'שס'  : \"שס\"}\n",
        "print(parties_dict_2020[\"טב\"])\n",
        "print(parties_dict_2020[\"ג\"])\n",
        "print(parties_dict_2020[\"ודעם\"])\n"
      ],
      "execution_count": null,
      "outputs": [
        {
          "output_type": "stream",
          "text": [
            "ימינה\n",
            "יהדות התורה\n",
            "הרשימה המשותפת\n"
          ],
          "name": "stdout"
        }
      ]
    },
    {
      "cell_type": "markdown",
      "metadata": {
        "id": "AuER6mkkCSZZ"
      },
      "source": [
        "Read the election results by ballot (not city)"
      ]
    },
    {
      "cell_type": "code",
      "metadata": {
        "id": "j46o4LeeCSZZ",
        "outputId": "7b4f814f-5b70-48d2-d6cb-207eddd69c52"
      },
      "source": [
        "df_2020_ballots_raw = pd.read_csv(data_path + 'votes per ballot 2020.csv',  encoding = 'iso-8859-8', index_col='שם ישוב')\n",
        "df_2020_ballots_raw.head()"
      ],
      "execution_count": null,
      "outputs": [
        {
          "output_type": "execute_result",
          "data": {
            "text/html": [
              "<div>\n",
              "<style scoped>\n",
              "    .dataframe tbody tr th:only-of-type {\n",
              "        vertical-align: middle;\n",
              "    }\n",
              "\n",
              "    .dataframe tbody tr th {\n",
              "        vertical-align: top;\n",
              "    }\n",
              "\n",
              "    .dataframe thead th {\n",
              "        text-align: right;\n",
              "    }\n",
              "</style>\n",
              "<table border=\"1\" class=\"dataframe\">\n",
              "  <thead>\n",
              "    <tr style=\"text-align: right;\">\n",
              "      <th></th>\n",
              "      <th>סמל ועדה</th>\n",
              "      <th>ברזל</th>\n",
              "      <th>סמל ישוב</th>\n",
              "      <th>קלפי</th>\n",
              "      <th>ריכוז</th>\n",
              "      <th>שופט</th>\n",
              "      <th>בזב</th>\n",
              "      <th>מצביעים</th>\n",
              "      <th>פסולים</th>\n",
              "      <th>כשרים</th>\n",
              "      <th>...</th>\n",
              "      <th>נק</th>\n",
              "      <th>פה</th>\n",
              "      <th>ףז</th>\n",
              "      <th>ץ</th>\n",
              "      <th>ק</th>\n",
              "      <th>קי</th>\n",
              "      <th>קך</th>\n",
              "      <th>קץ</th>\n",
              "      <th>שס</th>\n",
              "      <th>Unnamed: 41</th>\n",
              "    </tr>\n",
              "    <tr>\n",
              "      <th>שם ישוב</th>\n",
              "      <th></th>\n",
              "      <th></th>\n",
              "      <th></th>\n",
              "      <th></th>\n",
              "      <th></th>\n",
              "      <th></th>\n",
              "      <th></th>\n",
              "      <th></th>\n",
              "      <th></th>\n",
              "      <th></th>\n",
              "      <th></th>\n",
              "      <th></th>\n",
              "      <th></th>\n",
              "      <th></th>\n",
              "      <th></th>\n",
              "      <th></th>\n",
              "      <th></th>\n",
              "      <th></th>\n",
              "      <th></th>\n",
              "      <th></th>\n",
              "      <th></th>\n",
              "    </tr>\n",
              "  </thead>\n",
              "  <tbody>\n",
              "    <tr>\n",
              "      <th>אבו גווייעד שבט</th>\n",
              "      <td>18</td>\n",
              "      <td>9870</td>\n",
              "      <td>967</td>\n",
              "      <td>1.0</td>\n",
              "      <td>1</td>\n",
              "      <td>0</td>\n",
              "      <td>585</td>\n",
              "      <td>126</td>\n",
              "      <td>2</td>\n",
              "      <td>124</td>\n",
              "      <td>...</td>\n",
              "      <td>0</td>\n",
              "      <td>6</td>\n",
              "      <td>1</td>\n",
              "      <td>0</td>\n",
              "      <td>0</td>\n",
              "      <td>0</td>\n",
              "      <td>0</td>\n",
              "      <td>0</td>\n",
              "      <td>2</td>\n",
              "      <td>NaN</td>\n",
              "    </tr>\n",
              "    <tr>\n",
              "      <th>אבו גווייעד שבט</th>\n",
              "      <td>18</td>\n",
              "      <td>9871</td>\n",
              "      <td>967</td>\n",
              "      <td>2.0</td>\n",
              "      <td>1</td>\n",
              "      <td>0</td>\n",
              "      <td>764</td>\n",
              "      <td>249</td>\n",
              "      <td>2</td>\n",
              "      <td>247</td>\n",
              "      <td>...</td>\n",
              "      <td>0</td>\n",
              "      <td>0</td>\n",
              "      <td>0</td>\n",
              "      <td>0</td>\n",
              "      <td>0</td>\n",
              "      <td>0</td>\n",
              "      <td>0</td>\n",
              "      <td>2</td>\n",
              "      <td>0</td>\n",
              "      <td>NaN</td>\n",
              "    </tr>\n",
              "    <tr>\n",
              "      <th>אבו גווייעד שבט</th>\n",
              "      <td>18</td>\n",
              "      <td>9872</td>\n",
              "      <td>967</td>\n",
              "      <td>3.0</td>\n",
              "      <td>1</td>\n",
              "      <td>0</td>\n",
              "      <td>669</td>\n",
              "      <td>220</td>\n",
              "      <td>2</td>\n",
              "      <td>218</td>\n",
              "      <td>...</td>\n",
              "      <td>0</td>\n",
              "      <td>2</td>\n",
              "      <td>1</td>\n",
              "      <td>0</td>\n",
              "      <td>0</td>\n",
              "      <td>0</td>\n",
              "      <td>0</td>\n",
              "      <td>0</td>\n",
              "      <td>0</td>\n",
              "      <td>NaN</td>\n",
              "    </tr>\n",
              "    <tr>\n",
              "      <th>אבו גוש</th>\n",
              "      <td>2</td>\n",
              "      <td>736</td>\n",
              "      <td>472</td>\n",
              "      <td>1.0</td>\n",
              "      <td>1</td>\n",
              "      <td>0</td>\n",
              "      <td>530</td>\n",
              "      <td>299</td>\n",
              "      <td>7</td>\n",
              "      <td>292</td>\n",
              "      <td>...</td>\n",
              "      <td>0</td>\n",
              "      <td>11</td>\n",
              "      <td>0</td>\n",
              "      <td>0</td>\n",
              "      <td>0</td>\n",
              "      <td>0</td>\n",
              "      <td>0</td>\n",
              "      <td>0</td>\n",
              "      <td>2</td>\n",
              "      <td>NaN</td>\n",
              "    </tr>\n",
              "    <tr>\n",
              "      <th>אבו גוש</th>\n",
              "      <td>2</td>\n",
              "      <td>737</td>\n",
              "      <td>472</td>\n",
              "      <td>2.0</td>\n",
              "      <td>1</td>\n",
              "      <td>0</td>\n",
              "      <td>693</td>\n",
              "      <td>388</td>\n",
              "      <td>6</td>\n",
              "      <td>382</td>\n",
              "      <td>...</td>\n",
              "      <td>0</td>\n",
              "      <td>18</td>\n",
              "      <td>0</td>\n",
              "      <td>0</td>\n",
              "      <td>0</td>\n",
              "      <td>0</td>\n",
              "      <td>0</td>\n",
              "      <td>1</td>\n",
              "      <td>0</td>\n",
              "      <td>NaN</td>\n",
              "    </tr>\n",
              "  </tbody>\n",
              "</table>\n",
              "<p>5 rows × 41 columns</p>\n",
              "</div>"
            ],
            "text/plain": [
              "                 סמל ועדה  ברזל  סמל ישוב  קלפי  ריכוז  שופט  בזב  מצביעים  \\\n",
              "שם ישוב                                                                      \n",
              "אבו גווייעד שבט        18  9870       967   1.0      1     0  585      126   \n",
              "אבו גווייעד שבט        18  9871       967   2.0      1     0  764      249   \n",
              "אבו גווייעד שבט        18  9872       967   3.0      1     0  669      220   \n",
              "אבו גוש                 2   736       472   1.0      1     0  530      299   \n",
              "אבו גוש                 2   737       472   2.0      1     0  693      388   \n",
              "\n",
              "                 פסולים  כשרים  ...  נק  פה  ףז  ץ  ק  קי  קך  קץ  שס  \\\n",
              "שם ישוב                         ...                                     \n",
              "אבו גווייעד שבט       2    124  ...   0   6   1  0  0   0   0   0   2   \n",
              "אבו גווייעד שבט       2    247  ...   0   0   0  0  0   0   0   2   0   \n",
              "אבו גווייעד שבט       2    218  ...   0   2   1  0  0   0   0   0   0   \n",
              "אבו גוש               7    292  ...   0  11   0  0  0   0   0   0   2   \n",
              "אבו גוש               6    382  ...   0  18   0  0  0   0   0   1   0   \n",
              "\n",
              "                 Unnamed: 41  \n",
              "שם ישוב                       \n",
              "אבו גווייעד שבט          NaN  \n",
              "אבו גווייעד שבט          NaN  \n",
              "אבו גווייעד שבט          NaN  \n",
              "אבו גוש                  NaN  \n",
              "אבו גוש                  NaN  \n",
              "\n",
              "[5 rows x 41 columns]"
            ]
          },
          "metadata": {
            "tags": []
          },
          "execution_count": 65
        }
      ]
    },
    {
      "cell_type": "code",
      "metadata": {
        "id": "XiA5PuOgCSZb",
        "outputId": "fc550a0f-2a1d-4d34-f5a0-435562c6ca3e"
      },
      "source": [
        "df_2020_ballots = df_2020_ballots_raw.drop('סמל ועדה', axis=1) # new column added in Sep 2019\n",
        "df_2020_ballots = df_2020_ballots[df_2020_ballots.columns[8:-1]] # removing \"metadata\" columns\n",
        "df_2020_ballots.head()"
      ],
      "execution_count": null,
      "outputs": [
        {
          "output_type": "execute_result",
          "data": {
            "text/html": [
              "<div>\n",
              "<style scoped>\n",
              "    .dataframe tbody tr th:only-of-type {\n",
              "        vertical-align: middle;\n",
              "    }\n",
              "\n",
              "    .dataframe tbody tr th {\n",
              "        vertical-align: top;\n",
              "    }\n",
              "\n",
              "    .dataframe thead th {\n",
              "        text-align: right;\n",
              "    }\n",
              "</style>\n",
              "<table border=\"1\" class=\"dataframe\">\n",
              "  <thead>\n",
              "    <tr style=\"text-align: right;\">\n",
              "      <th></th>\n",
              "      <th>כשרים</th>\n",
              "      <th>אמת</th>\n",
              "      <th>ג</th>\n",
              "      <th>ודעם</th>\n",
              "      <th>ז</th>\n",
              "      <th>זך</th>\n",
              "      <th>זץ</th>\n",
              "      <th>טב</th>\n",
              "      <th>י</th>\n",
              "      <th>יז</th>\n",
              "      <th>...</th>\n",
              "      <th>נץ</th>\n",
              "      <th>נק</th>\n",
              "      <th>פה</th>\n",
              "      <th>ףז</th>\n",
              "      <th>ץ</th>\n",
              "      <th>ק</th>\n",
              "      <th>קי</th>\n",
              "      <th>קך</th>\n",
              "      <th>קץ</th>\n",
              "      <th>שס</th>\n",
              "    </tr>\n",
              "    <tr>\n",
              "      <th>שם ישוב</th>\n",
              "      <th></th>\n",
              "      <th></th>\n",
              "      <th></th>\n",
              "      <th></th>\n",
              "      <th></th>\n",
              "      <th></th>\n",
              "      <th></th>\n",
              "      <th></th>\n",
              "      <th></th>\n",
              "      <th></th>\n",
              "      <th></th>\n",
              "      <th></th>\n",
              "      <th></th>\n",
              "      <th></th>\n",
              "      <th></th>\n",
              "      <th></th>\n",
              "      <th></th>\n",
              "      <th></th>\n",
              "      <th></th>\n",
              "      <th></th>\n",
              "      <th></th>\n",
              "    </tr>\n",
              "  </thead>\n",
              "  <tbody>\n",
              "    <tr>\n",
              "      <th>אבו גווייעד שבט</th>\n",
              "      <td>124</td>\n",
              "      <td>2</td>\n",
              "      <td>0</td>\n",
              "      <td>112</td>\n",
              "      <td>0</td>\n",
              "      <td>0</td>\n",
              "      <td>0</td>\n",
              "      <td>0</td>\n",
              "      <td>0</td>\n",
              "      <td>0</td>\n",
              "      <td>...</td>\n",
              "      <td>0</td>\n",
              "      <td>0</td>\n",
              "      <td>6</td>\n",
              "      <td>1</td>\n",
              "      <td>0</td>\n",
              "      <td>0</td>\n",
              "      <td>0</td>\n",
              "      <td>0</td>\n",
              "      <td>0</td>\n",
              "      <td>2</td>\n",
              "    </tr>\n",
              "    <tr>\n",
              "      <th>אבו גווייעד שבט</th>\n",
              "      <td>247</td>\n",
              "      <td>6</td>\n",
              "      <td>0</td>\n",
              "      <td>235</td>\n",
              "      <td>0</td>\n",
              "      <td>0</td>\n",
              "      <td>0</td>\n",
              "      <td>0</td>\n",
              "      <td>0</td>\n",
              "      <td>0</td>\n",
              "      <td>...</td>\n",
              "      <td>0</td>\n",
              "      <td>0</td>\n",
              "      <td>0</td>\n",
              "      <td>0</td>\n",
              "      <td>0</td>\n",
              "      <td>0</td>\n",
              "      <td>0</td>\n",
              "      <td>0</td>\n",
              "      <td>2</td>\n",
              "      <td>0</td>\n",
              "    </tr>\n",
              "    <tr>\n",
              "      <th>אבו גווייעד שבט</th>\n",
              "      <td>218</td>\n",
              "      <td>5</td>\n",
              "      <td>0</td>\n",
              "      <td>207</td>\n",
              "      <td>0</td>\n",
              "      <td>0</td>\n",
              "      <td>0</td>\n",
              "      <td>0</td>\n",
              "      <td>0</td>\n",
              "      <td>1</td>\n",
              "      <td>...</td>\n",
              "      <td>0</td>\n",
              "      <td>0</td>\n",
              "      <td>2</td>\n",
              "      <td>1</td>\n",
              "      <td>0</td>\n",
              "      <td>0</td>\n",
              "      <td>0</td>\n",
              "      <td>0</td>\n",
              "      <td>0</td>\n",
              "      <td>0</td>\n",
              "    </tr>\n",
              "    <tr>\n",
              "      <th>אבו גוש</th>\n",
              "      <td>292</td>\n",
              "      <td>15</td>\n",
              "      <td>1</td>\n",
              "      <td>229</td>\n",
              "      <td>0</td>\n",
              "      <td>0</td>\n",
              "      <td>0</td>\n",
              "      <td>0</td>\n",
              "      <td>0</td>\n",
              "      <td>0</td>\n",
              "      <td>...</td>\n",
              "      <td>0</td>\n",
              "      <td>0</td>\n",
              "      <td>11</td>\n",
              "      <td>0</td>\n",
              "      <td>0</td>\n",
              "      <td>0</td>\n",
              "      <td>0</td>\n",
              "      <td>0</td>\n",
              "      <td>0</td>\n",
              "      <td>2</td>\n",
              "    </tr>\n",
              "    <tr>\n",
              "      <th>אבו גוש</th>\n",
              "      <td>382</td>\n",
              "      <td>6</td>\n",
              "      <td>0</td>\n",
              "      <td>330</td>\n",
              "      <td>0</td>\n",
              "      <td>0</td>\n",
              "      <td>0</td>\n",
              "      <td>0</td>\n",
              "      <td>0</td>\n",
              "      <td>0</td>\n",
              "      <td>...</td>\n",
              "      <td>0</td>\n",
              "      <td>0</td>\n",
              "      <td>18</td>\n",
              "      <td>0</td>\n",
              "      <td>0</td>\n",
              "      <td>0</td>\n",
              "      <td>0</td>\n",
              "      <td>0</td>\n",
              "      <td>1</td>\n",
              "      <td>0</td>\n",
              "    </tr>\n",
              "  </tbody>\n",
              "</table>\n",
              "<p>5 rows × 31 columns</p>\n",
              "</div>"
            ],
            "text/plain": [
              "                 כשרים  אמת  ג  ודעם  ז  זך  זץ  טב  י  יז  ...  נץ  נק  פה  \\\n",
              "שם ישוב                                                     ...               \n",
              "אבו גווייעד שבט    124    2  0   112  0   0   0   0  0   0  ...   0   0   6   \n",
              "אבו גווייעד שבט    247    6  0   235  0   0   0   0  0   0  ...   0   0   0   \n",
              "אבו גווייעד שבט    218    5  0   207  0   0   0   0  0   1  ...   0   0   2   \n",
              "אבו גוש            292   15  1   229  0   0   0   0  0   0  ...   0   0  11   \n",
              "אבו גוש            382    6  0   330  0   0   0   0  0   0  ...   0   0  18   \n",
              "\n",
              "                 ףז  ץ  ק  קי  קך  קץ  שס  \n",
              "שם ישוב                                    \n",
              "אבו גווייעד שבט   1  0  0   0   0   0   2  \n",
              "אבו גווייעד שבט   0  0  0   0   0   2   0  \n",
              "אבו גווייעד שבט   1  0  0   0   0   0   0  \n",
              "אבו גוש           0  0  0   0   0   0   2  \n",
              "אבו גוש           0  0  0   0   0   1   0  \n",
              "\n",
              "[5 rows x 31 columns]"
            ]
          },
          "metadata": {
            "tags": []
          },
          "execution_count": 73
        }
      ]
    }
  ]
}